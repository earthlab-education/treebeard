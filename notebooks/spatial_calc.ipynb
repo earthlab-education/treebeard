{
 "cells": [
  {
   "cell_type": "code",
   "execution_count": null,
   "metadata": {},
   "outputs": [],
   "source": [
    "import geopandas as gpd\n",
    "\n",
    "# Load polygon data\n",
    "polygon_data_path = 'path/to/polygon_data.shp'  # Update with your file path\n",
    "polygons_gdf = gpd.read_file(polygon_data_path)\n",
    "\n",
    "# Display basic information\n",
    "print(polygons_gdf.head())\n",
    "print(polygons_gdf.crs)\n",
    "print(polygons_gdf.describe())\n"
   ]
  },
  {
   "cell_type": "code",
   "execution_count": null,
   "metadata": {},
   "outputs": [],
   "source": [
    "import numpy as np\n",
    "\n",
    "# Calculate area and perimeter\n",
    "polygons_gdf['area'] = polygons_gdf.area\n",
    "polygons_gdf['perimeter'] = polygons_gdf.length\n",
    "\n",
    "# Shape index (perimeter to area ratio)\n",
    "polygons_gdf['shape_index'] = polygons_gdf['perimeter'] / np.sqrt(polygons_gdf['area'])\n",
    "\n",
    "# Display metrics\n",
    "print(polygons_gdf[['area', 'perimeter', 'shape_index']].describe())\n"
   ]
  },
  {
   "cell_type": "code",
   "execution_count": null,
   "metadata": {},
   "outputs": [],
   "source": [
    "import geopandas as gpd\n",
    "import numpy as np\n",
    "import matplotlib.pyplot as plt\n",
    "\n",
    "# Load polygon data\n",
    "polygon_data_path = 'path/to/polygon_data.shp'  # Update with your file path\n",
    "polygons_gdf = gpd.read_file(polygon_data_path)\n",
    "\n",
    "# Display basic information\n",
    "print(polygons_gdf.head())\n",
    "print(polygons_gdf.crs)\n",
    "print(polygons_gdf.describe())\n",
    "\n",
    "# Calculate area and perimeter\n",
    "polygons_gdf['area'] = polygons_gdf.area\n",
    "polygons_gdf['perimeter'] = polygons_gdf.length\n",
    "\n",
    "# Shape index (perimeter to area ratio)\n",
    "polygons_gdf['shape_index'] = polygons_gdf['perimeter'] / np.sqrt(polygons_gdf['area'])\n",
    "\n",
    "# Display metrics\n",
    "print(polygons_gdf[['area', 'perimeter', 'shape_index']].describe())\n",
    "\n",
    "# Plot polygons\n",
    "fig, ax = plt.subplots(figsize=(10, 10))\n",
    "polygons_gdf.plot(ax=ax, column='area', cmap='viridis', legend=True)\n",
    "plt.title('Polygons Colored by Area')\n",
    "plt.xlabel('Longitude')\n",
    "plt.ylabel('Latitude')\n",
    "plt.show()\n",
    "\n",
    "# Plot histogram of area\n",
    "fig, ax = plt.subplots(figsize=(10, 5))\n",
    "polygons_gdf['area'].plot(kind='hist', bins=50, ax=ax, color='skyblue')\n",
    "plt.title('Histogram of Polygon Area')\n",
    "plt.xlabel('Area')\n",
    "plt.ylabel('Frequency')\n",
    "plt.show()\n",
    "\n",
    "# Plot histogram of shape index\n",
    "fig, ax = plt.subplots(figsize=(10, 5))\n",
    "polygons_gdf['shape_index'].plot(kind='hist', bins=50, ax=ax, color='lightgreen')\n",
    "plt.title('Histogram of Shape Index')\n",
    "plt.xlabel('Shape Index')\n",
    "plt.ylabel('Frequency')\n",
    "plt.show()\n",
    "\n",
    "# Summary report\n",
    "summary = polygons_gdf[['area', 'perimeter', 'shape_index']].describe()\n",
    "print(summary)\n",
    "\n",
    "# Save the summary report to a CSV file\n",
    "summary.to_csv('spatial_heterogeneity_summary.csv')\n",
    "\n",
    "# Optionally, save the GeoDataFrame with metrics to a new shapefile\n",
    "polygons_gdf.to_file('polygons_with_metrics.shp')\n"
   ]
  },
  {
   "cell_type": "code",
   "execution_count": null,
   "metadata": {},
   "outputs": [],
   "source": []
  }
 ],
 "metadata": {
  "kernelspec": {
   "display_name": "Python 3 (ipykernel)",
   "language": "python",
   "name": "python3"
  },
  "language_info": {
   "codemirror_mode": {
    "name": "ipython",
    "version": 3
   },
   "file_extension": ".py",
   "mimetype": "text/x-python",
   "name": "python",
   "nbconvert_exporter": "python",
   "pygments_lexer": "ipython3",
   "version": "3.10.14"
  }
 },
 "nbformat": 4,
 "nbformat_minor": 4
}
