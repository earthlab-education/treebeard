{
 "cells": [
  {
   "cell_type": "code",
   "execution_count": 7,
   "metadata": {},
   "outputs": [],
   "source": [
    "# import leafmap\n",
    "# import rasterio\n",
    "# import rioxarray\n",
    "# import xarray as xr\n",
    "\n",
    "\n",
    "# cropped_file = \"cropped_N4W351.tif\"\n",
    "# dataset = rasterio.open(cropped_file)\n",
    "# red = dataset.read(1).astype(float)\n",
    "# green = dataset.read(2).astype(float)\n",
    "# blue = dataset.read(3).astype(float)\n",
    "# nir = dataset.read(4).astype(float)\n",
    "# ndvi = (nir - red) / (nir + red)\n",
    "\n",
    "# ndvi_image = leafmap.array_to_image(ndvi, source=cropped_file)\n",
    "# m = leafmap.Map()\n",
    "# m.add_raster(cropped_file, layer_name=\"cropped_image\")\n",
    "# # m.add_raster(cropped_file, indexes=[4, 1, 2], vmin=0, vmax=120, layer_name=\"DRAPP\")\n",
    "# # m.add_raster(ndvi_image, colormap=\"Greens\", layer_name=\"NDVI\")\n",
    "# m"
   ]
  },
  {
   "cell_type": "code",
   "execution_count": 8,
   "metadata": {},
   "outputs": [
    {
     "data": {
      "application/vnd.jupyter.widget-view+json": {
       "model_id": "3225fb03a2584e8baa5944c19643588d",
       "version_major": 2,
       "version_minor": 0
      },
      "text/plain": [
       "Map(center=[40.2434655, -105.52648450000001], controls=(ZoomControl(options=['position', 'zoom_in_text', 'zoom…"
      ]
     },
     "execution_count": 8,
     "metadata": {},
     "output_type": "execute_result"
    }
   ],
   "source": [
    "from localtileserver import get_leaflet_tile_layer, TileClient\n",
    "from ipyleaflet import Map\n",
    "import os\n",
    "import leafmap\n",
    "from samgeo import SamGeo, tms_to_geotiff, get_basemaps\n",
    "import rasterio\n",
    "\n",
    "client = TileClient('cropped_N4W351.tif')\n",
    "t = get_leaflet_tile_layer(client)\n",
    "m = Map(center=client.center(), zoom=client.default_zoom)\n",
    "m.add(t)\n",
    "\n",
    "m"
   ]
  }
 ],
 "metadata": {
  "kernelspec": {
   "display_name": "treebeard",
   "language": "python",
   "name": "python3"
  },
  "language_info": {
   "codemirror_mode": {
    "name": "ipython",
    "version": 3
   },
   "file_extension": ".py",
   "mimetype": "text/x-python",
   "name": "python",
   "nbconvert_exporter": "python",
   "pygments_lexer": "ipython3",
   "version": "3.10.14"
  }
 },
 "nbformat": 4,
 "nbformat_minor": 2
}
