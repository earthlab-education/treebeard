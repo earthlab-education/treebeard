{
 "cells": [
  {
   "cell_type": "code",
   "execution_count": 2,
   "metadata": {},
   "outputs": [],
   "source": [
    "import os\n",
    "\n",
    "import earthpy as et\n",
    "\n",
    "from process_lidar import process_canopy_areas, process_lidar_to_canopy\n",
    "\n",
    "# Prepare project directories if needed\n",
    "data_dir = os.path.join(et.io.HOME, et.io.DATA_NAME, 'treebeard')\n",
    "lidar_dir = os.path.join(data_dir, 'lidar_tile_scheme_2020')\n",
    "lidar_las_dir = os.path.join(data_dir, 'las_files')\n",
    "aoi_shapefiles = [\n",
    "    'assets/areas/immediate_project/Zumwinkel_property.shp',\n",
    "    'assets/areas/planning/Potential Project Area_1.shp',\n",
    "    'assets/areas/planning/Potential Project Area.shp',\n",
    "    'assets/areas/planning/ProjectOverview.shp'\n",
    "]\n",
    "os.makedirs(data_dir, exist_ok=True)\n",
    "os.makedirs(lidar_dir, exist_ok=True)\n",
    "os.makedirs(lidar_las_dir, exist_ok=True)\n",
    "\n",
    "\"\"\"\n",
    "The following code will need:\n",
    "- The study area geometry to process as a GDF.\n",
    "  This should be in a CRS with feet as the CRS, preferably one of the US State Plane coordinate systems\n",
    "  The GDF should have the same schema as what is used in the main notebook,\n",
    "  but the most important thing is a column called 'Proj_ID' that has the name of the study area.\n",
    "- Folder path where .las files are saved. This should be all the tiles that overlap the study area.\n",
    "  Code is not included here to identify those tiles, but it is in our primary notebook.\n",
    "- \n",
    "\"\"\"\n",
    "# Input study area, this will come from the QGIS dialog\n",
    "#proj_area = proj_area_gdf[proj_area_gdf['Proj_ID'] == 'Zumwinkel']\n",
    "\n",
    "# Directory where .las files are saved\n",
    "# las_folder_path = r\"C:\\Users\\Pete\\earth-analytics\\data\\treebeard\\las_files\\test\"\n",
    "\n",
    "# Get the name of the study area from the GDF or specify it manually\n",
    "# proj_area_name = proj_area['Proj_ID']\n",
    "canopy_gdf = process_lidar_to_canopy(proj_area, las_folder_path, canopy_height=5)\n",
    "\n",
    "# Specify the output path from QGIS parameter? Or default to the earth analytics folder\n",
    "output_path = os.path.join(lidar_las_dir, \"output\")\n",
    "\n",
    "if not os.path.exists(output_path):\n",
    "    os.makedirs(output_path)\n",
    "\n",
    "process_canopy_areas(canopy_gdf, proj_area, output_path, buffer_distance=5)\n"
   ]
  }
 ],
 "metadata": {
  "kernelspec": {
   "display_name": "treebeard",
   "language": "python",
   "name": "python3"
  },
  "language_info": {
   "codemirror_mode": {
    "name": "ipython",
    "version": 3
   },
   "file_extension": ".py",
   "mimetype": "text/x-python",
   "name": "python",
   "nbconvert_exporter": "python",
   "pygments_lexer": "ipython3",
   "version": "3.10.14"
  }
 },
 "nbformat": 4,
 "nbformat_minor": 2
}
